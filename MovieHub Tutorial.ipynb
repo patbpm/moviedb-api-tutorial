{
 "cells": [
  {
   "cell_type": "code",
   "execution_count": 173,
   "metadata": {},
   "outputs": [],
   "source": [
    "import requests\n",
    "import json\n",
    "import os\n",
    "import urllib\n",
    "CONFIG_PATTERN = 'http://api.themoviedb.org/3/configuration?api_key={key}'\n",
    "IMG_PATTERN = 'http://api.themoviedb.org/3/movie/{imdbid}/images?api_key={key}'\n",
    "DETAILS_PATTERN = 'https://api.themoviedb.org/3/movie/{imdbid}?api_key={key}'\n",
    "DISCOVER_PATTERN = 'https://api.themoviedb.org/3/discover/movie?api_key={key}&sort_by=vote_count.desc'\n",
    "\n",
    "KEY = '<your-Api>'\n",
    "list_id = '10'\n",
    "att= '&sort_by=popularity.desc&include_adult=false&include_video=false&page=1'\n",
    "\n"
   ]
  },
  {
   "cell_type": "code",
   "execution_count": 174,
   "metadata": {},
   "outputs": [],
   "source": [
    "def _get_json(url):\n",
    "    r = requests.get(url)\n",
    "    return r.json()"
   ]
  },
  {
   "cell_type": "code",
   "execution_count": 175,
   "metadata": {},
   "outputs": [],
   "source": [
    "def jprint(obj):\n",
    "    # create a formatted string of the Python JSON object\n",
    "    text = json.dumps(obj, sort_keys=True, indent=4)\n",
    "    print(text)"
   ]
  },
  {
   "cell_type": "markdown",
   "metadata": {},
   "source": [
    "# Most Voted Movies Details"
   ]
  },
  {
   "cell_type": "code",
   "execution_count": 176,
   "metadata": {},
   "outputs": [],
   "source": [
    "imdbid = _get_json(DISCOVER_PATTERN.format(key=KEY))['results'][0]['id']"
   ]
  },
  {
   "cell_type": "code",
   "execution_count": 177,
   "metadata": {},
   "outputs": [],
   "source": [
    "def most_voted_movie_details():\n",
    "    \"\"\" return all details homepage, genders etc.. of the most voted movie \n",
    "        Args:\n",
    "            imdbid (str): IMDB id of the movie\n",
    "        Returns:\n",
    "            Details of the movie\n",
    "    \"\"\"\n",
    "    homepage = _get_json(DETAILS_PATTERN.format(key=KEY,imdbid=imdbid))['homepage']\n",
    "    title = _get_json(DETAILS_PATTERN.format(key=KEY,imdbid=imdbid))['original_title']\n",
    "    overview = _get_json(DETAILS_PATTERN.format(key=KEY,imdbid=imdbid))['overview']\n",
    "    releaseDate = _get_json(DETAILS_PATTERN.format(key=KEY,imdbid=imdbid))['release_date']\n",
    "    revenue = _get_json(DETAILS_PATTERN.format(key=KEY,imdbid=imdbid))['revenue']\n",
    "    vote_count = _get_json(DETAILS_PATTERN.format(key=KEY,imdbid=imdbid))['vote_count']\n",
    "    runtime = _get_json(DETAILS_PATTERN.format(key=KEY,imdbid=imdbid))['runtime']\n",
    "    \n",
    "    movie_details = \"Title : {0} \\n\\nOverview: \\n---------\\n {1} \\n\\nHomepage: \\n---------\\n {2} \\n\\nRelease Date: \\n---------\\n {3}\".format(title, overview, homepage, releaseDate)\n",
    "    \n",
    "    print(movie_details) \n",
    "    "
   ]
  },
  {
   "cell_type": "code",
   "execution_count": 178,
   "metadata": {},
   "outputs": [
    {
     "name": "stdout",
     "output_type": "stream",
     "text": [
      "Title : Inception \n",
      "\n",
      "Overview: \n",
      "---------\n",
      " Cobb, a skilled thief who commits corporate espionage by infiltrating the subconscious of his targets is offered a chance to regain his old life as payment for a task considered to be impossible: \"inception\", the implantation of another person's idea into a target's subconscious. \n",
      "\n",
      "Homepage: \n",
      "---------\n",
      " http://inceptionmovie.warnerbros.com/ \n",
      "\n",
      "Release Date: \n",
      "---------\n",
      " 2010-07-15\n"
     ]
    }
   ],
   "source": [
    "most_voted_movie_details()"
   ]
  },
  {
   "cell_type": "code",
   "execution_count": null,
   "metadata": {},
   "outputs": [],
   "source": []
  },
  {
   "cell_type": "markdown",
   "metadata": {},
   "source": [
    "# get IMDb id for movie title"
   ]
  },
  {
   "cell_type": "markdown",
   "metadata": {},
   "source": [
    "# Download Posters"
   ]
  },
  {
   "cell_type": "code",
   "execution_count": 195,
   "metadata": {},
   "outputs": [],
   "source": [
    "def get_poster_urls(imdbid):\n",
    "    \"\"\" return image urls of posters for IMDB id\n",
    "        returns all poster images from 'themoviedb.org'. Uses the\n",
    "        maximum available size. \n",
    "        Args:\n",
    "            imdbid (str): IMDB id of the movie\n",
    "        Returns:\n",
    "            list: list of urls to the images\n",
    "    \"\"\"\n",
    "    config = _get_json(CONFIG_PATTERN.format(key=KEY))\n",
    "    base_url = config['images']['base_url']\n",
    "    sizes = config['images']['poster_sizes']\n",
    "\n",
    "    \"\"\"\n",
    "        'sizes' should be sorted in ascending order, so\n",
    "            max_size = sizes[-1]\n",
    "        should get the largest size as well.        \n",
    "    \"\"\"\n",
    "    def size_str_to_int(x):\n",
    "        return float(\"inf\") if x == 'original' else int(x[1:])\n",
    "    max_size = max(sizes, key=size_str_to_int)\n",
    "\n",
    "    posters = _get_json(IMG_PATTERN.format(key=KEY,imdbid=imdbid))['posters']\n",
    "    poster_urls = []\n",
    "    for poster in posters:\n",
    "        rel_path = poster['file_path']\n",
    "        url = \"{0}{1}{2}\".format(base_url, max_size, rel_path)\n",
    "        poster_urls.append(url) \n",
    "\n",
    "    return poster_urls"
   ]
  },
  {
   "cell_type": "code",
   "execution_count": 196,
   "metadata": {},
   "outputs": [
    {
     "data": {
      "text/plain": [
       "['http://image.tmdb.org/t/p/original/tAXARVreJnWfoANIHASmgYk4SB0.jpg',\n",
       " 'http://image.tmdb.org/t/p/original/qmDpIHrmpJINaRKAfWQfftjCdyi.jpg',\n",
       " 'http://image.tmdb.org/t/p/original/oFsUrLa9u4jLEshKDgWXADPy4kG.jpg',\n",
       " 'http://image.tmdb.org/t/p/original/ag5mtLNWp1zDqNxZF6Lnk87JknW.jpg',\n",
       " 'http://image.tmdb.org/t/p/original/wlrjaMWMP8gpELu2oFNW0VJHEy1.jpg',\n",
       " 'http://image.tmdb.org/t/p/original/9Bb4zpZK6N9I0rcaMNvTIotWCX0.jpg',\n",
       " 'http://image.tmdb.org/t/p/original/n9dwu1p5G4qJ4DI5eHJMUbAdOfA.jpg',\n",
       " 'http://image.tmdb.org/t/p/original/e8MyVAjISnQ8TCcOPQ0Pk2PTe46.jpg',\n",
       " 'http://image.tmdb.org/t/p/original/vZ9B2dp2MQrFCcIOwsioYHQUa1a.jpg',\n",
       " 'http://image.tmdb.org/t/p/original/kTzw1Mt0kf15SAOZzU3j1bPhv2n.jpg',\n",
       " 'http://image.tmdb.org/t/p/original/lbFaJLrR0DnvVGbDswv865gSMeT.jpg',\n",
       " 'http://image.tmdb.org/t/p/original/r84x4x93LbZ2gozISTBYVeq0gLZ.jpg',\n",
       " 'http://image.tmdb.org/t/p/original/yTtFJnaYQuFPetgwsSD2Ig3SjsO.jpg',\n",
       " 'http://image.tmdb.org/t/p/original/lxbTzHi4qChQSUJLHYXc5ply4ca.jpg',\n",
       " 'http://image.tmdb.org/t/p/original/95ZvEwpbvReLXP0BjtsyFPCJmVn.jpg',\n",
       " 'http://image.tmdb.org/t/p/original/9112nmTuirxJVI1nSmjvcPuhtw7.jpg',\n",
       " 'http://image.tmdb.org/t/p/original/dvlJBF9A3n2YaWbFs0UKBIbKuZN.jpg',\n",
       " 'http://image.tmdb.org/t/p/original/3J5EkW0LkeDs9xr3Zv8CgETBm9O.jpg',\n",
       " 'http://image.tmdb.org/t/p/original/a5VgSivwscpm4mrXJUT3VgumJVC.jpg',\n",
       " 'http://image.tmdb.org/t/p/original/ucCOK36bYeUX6NGZvc08GTYeegO.jpg',\n",
       " 'http://image.tmdb.org/t/p/original/5hVXWyB1NaDu6dHCcgYEe7hyUhS.jpg',\n",
       " 'http://image.tmdb.org/t/p/original/tyXR5dTN2KRf6ZjOURmTwn5WsNk.jpg',\n",
       " 'http://image.tmdb.org/t/p/original/3njbGOmDik935EU7kixxRbnFP9O.jpg',\n",
       " 'http://image.tmdb.org/t/p/original/iViFPY2O3rSbK84zsw2kEUtmxVP.jpg',\n",
       " 'http://image.tmdb.org/t/p/original/qzb0slJerd5bQgJxteJ5oAmfp09.jpg',\n",
       " 'http://image.tmdb.org/t/p/original/tXQvtRWfkUUnWJAn2tN3jERIUG.jpg',\n",
       " 'http://image.tmdb.org/t/p/original/5ZdgeEO23q97ividDiL3XcuWRLJ.jpg',\n",
       " 'http://image.tmdb.org/t/p/original/bgIt92V3IDysoAIcEfOo2ZK9PEv.jpg',\n",
       " 'http://image.tmdb.org/t/p/original/edv5CZvWj09upOsy2Y6IwDhK8bt.jpg',\n",
       " 'http://image.tmdb.org/t/p/original/nPO8aNT4uGtDAY0bZZZACfP66Lo.jpg',\n",
       " 'http://image.tmdb.org/t/p/original/9gk7adHYeDvHkCSEqAvQNLV5Uge.jpg',\n",
       " 'http://image.tmdb.org/t/p/original/4VWZyyUTuOZGcamFWfdo9EccuQJ.jpg',\n",
       " 'http://image.tmdb.org/t/p/original/7SivRwOLuA6DR09zNJ9JIo14GyX.jpg',\n",
       " 'http://image.tmdb.org/t/p/original/lwqDSnVCOJ1LCSzmmJbO2klKU07.jpg',\n",
       " 'http://image.tmdb.org/t/p/original/oeRpr9WkoYClWUp1nAeRU3AllCe.jpg',\n",
       " 'http://image.tmdb.org/t/p/original/mPjPH9z6DX8rBbUuSE3eBju8e8U.jpg',\n",
       " 'http://image.tmdb.org/t/p/original/ic6Hmu3ZGzesXmGom6mdMJTtdLN.jpg',\n",
       " 'http://image.tmdb.org/t/p/original/xVwBwO165VdX2uY8qH3IL06NRgn.jpg',\n",
       " 'http://image.tmdb.org/t/p/original/y7OZLyGlmVyIIJMRBwejqPFFn87.jpg',\n",
       " 'http://image.tmdb.org/t/p/original/n75xWdpiVmdEi6yxeDrRG7fxq8y.jpg',\n",
       " 'http://image.tmdb.org/t/p/original/3xxd3Ntf6dZfTQOG2edgUPx0CzD.jpg',\n",
       " 'http://image.tmdb.org/t/p/original/raZpgnY1UMOkSQaRr2zumWdKTKl.jpg',\n",
       " 'http://image.tmdb.org/t/p/original/uBIGXMffL4NTkTmsC2YSl04ALhn.jpg',\n",
       " 'http://image.tmdb.org/t/p/original/eVh61IfsFcIZuyEFoQCofUZGVw4.jpg',\n",
       " 'http://image.tmdb.org/t/p/original/ttD7RbnWXAfa3NNxSwoKtocc1sf.jpg',\n",
       " 'http://image.tmdb.org/t/p/original/h8T2PbJR1ajnsSgQaTejdchLags.jpg',\n",
       " 'http://image.tmdb.org/t/p/original/lM4y8ji3m3Q5GHXlezxKjax6uXt.jpg',\n",
       " 'http://image.tmdb.org/t/p/original/zkxbJON1ZzGCuk2qDQFs6yZGQcn.jpg',\n",
       " 'http://image.tmdb.org/t/p/original/76PHr2kgXBerl89JNmE8TZ4oWsJ.jpg',\n",
       " 'http://image.tmdb.org/t/p/original/AjyHeYPnRGs777x2JTQx7BBSCVz.jpg',\n",
       " 'http://image.tmdb.org/t/p/original/aej3LRUga5rhgkmRP6XMFw3ejbl.jpg',\n",
       " 'http://image.tmdb.org/t/p/original/g1z0zLD8tW94omZdM1NDg9Cb0L5.jpg',\n",
       " 'http://image.tmdb.org/t/p/original/jEsp30qRAFPAWMYFGWwK7f9ObST.jpg',\n",
       " 'http://image.tmdb.org/t/p/original/llnw1ytJyplbttau3PWYo6P57Ma.jpg',\n",
       " 'http://image.tmdb.org/t/p/original/oiJOvzOcTi8g70d4bhaRVLEcQA8.jpg',\n",
       " 'http://image.tmdb.org/t/p/original/yJUZ8GrtwFPKSJdirVzBGXmkd6l.jpg',\n",
       " 'http://image.tmdb.org/t/p/original/zmFLu2Mr2IjUUFwls05AIfJYUU8.jpg',\n",
       " 'http://image.tmdb.org/t/p/original/51g1EELIXksvjAnEe56WrFNOcjp.jpg',\n",
       " 'http://image.tmdb.org/t/p/original/nYc1eiyv86BlznZyHRaeqoumAtN.jpg',\n",
       " 'http://image.tmdb.org/t/p/original/d5AfeWE8Ozk5QSbjB7rF3GN2d76.jpg',\n",
       " 'http://image.tmdb.org/t/p/original/9qFzQ7x4KeolkPYtk0G7huA724B.jpg',\n",
       " 'http://image.tmdb.org/t/p/original/iPThYx3HIxuU3Yb7l3NiAlMc4tp.jpg',\n",
       " 'http://image.tmdb.org/t/p/original/zGkXACoKZja9tpkd8Dq6yqrrcoU.jpg',\n",
       " 'http://image.tmdb.org/t/p/original/7QlaHwXQHxUeqd45qeHXoj7R2OU.jpg',\n",
       " 'http://image.tmdb.org/t/p/original/w7pIMKIKrkuzCAWCoUcV6H48krv.jpg',\n",
       " 'http://image.tmdb.org/t/p/original/evcpThLSeQLlQ8xNvjkI2PQyuMh.jpg',\n",
       " 'http://image.tmdb.org/t/p/original/tz4Gv259u8ZJ9XqzAurKE7lbAxY.jpg',\n",
       " 'http://image.tmdb.org/t/p/original/ziKvu3Th9l1wN2aIeVj5ElpBqFu.jpg',\n",
       " 'http://image.tmdb.org/t/p/original/evUWk0hMWkLo1T8mk6Lu3yyCSYm.jpg',\n",
       " 'http://image.tmdb.org/t/p/original/yu08LuEtTCtDbFbs27EYWMASriR.jpg',\n",
       " 'http://image.tmdb.org/t/p/original/yGJzImW7aFSOuZ9W0KFFAYQJnZg.jpg',\n",
       " 'http://image.tmdb.org/t/p/original/81LoaRNZ5gcphscYysrS4uU7Zq0.jpg',\n",
       " 'http://image.tmdb.org/t/p/original/31nHNyvBUWcIIpaigaMFvHLNYnR.jpg',\n",
       " 'http://image.tmdb.org/t/p/original/tsxJFwA5rKJCS70Cv62TRivwqxJ.jpg',\n",
       " 'http://image.tmdb.org/t/p/original/2FuzG3LGe7vyzxDULbcJ5c6Rh4b.jpg',\n",
       " 'http://image.tmdb.org/t/p/original/rJfNKsrzvXYsYxHIxEBnbb7DQQs.jpg',\n",
       " 'http://image.tmdb.org/t/p/original/h9SJsh3FdLcghjNbTX3MOH18jIG.jpg',\n",
       " 'http://image.tmdb.org/t/p/original/3NWJvg0YHkD6u9R3D6vGLkk6vyc.jpg',\n",
       " 'http://image.tmdb.org/t/p/original/13AA6QVxO5QaxlTlS4NAU5tmjTZ.jpg',\n",
       " 'http://image.tmdb.org/t/p/original/CcyCCPE6CmA4JZNhPyRW0U3oTA.jpg',\n",
       " 'http://image.tmdb.org/t/p/original/JLb2xe5ROe6eHAGHVDJP5Zltoe.jpg',\n",
       " 'http://image.tmdb.org/t/p/original/3s8zBQ1ut41LK1VrnEaBSyquRBH.jpg',\n",
       " 'http://image.tmdb.org/t/p/original/cmoBCRsF4LZ3I78Lw6ge4Q7ZQrn.jpg',\n",
       " 'http://image.tmdb.org/t/p/original/bgC4FdiefFHUbIBR3ZpKVEFHVEK.jpg',\n",
       " 'http://image.tmdb.org/t/p/original/6vye8rTtwosicoy5augplO26KIR.jpg',\n",
       " 'http://image.tmdb.org/t/p/original/pElT7dN63byJ0jh43xnUEzA5E7U.jpg',\n",
       " 'http://image.tmdb.org/t/p/original/eNd3v0luM6MKPuQEiY7SrCrk3Vn.jpg',\n",
       " 'http://image.tmdb.org/t/p/original/mhY1uljyn5MvJ2k5JYcDPRQfP2Z.jpg',\n",
       " 'http://image.tmdb.org/t/p/original/1PIccDb9pjRBCrCKIXz1Y8o83DJ.jpg',\n",
       " 'http://image.tmdb.org/t/p/original/fBJemQGslDuN9cpeRKAU3b09jBf.jpg',\n",
       " 'http://image.tmdb.org/t/p/original/9YL3Frgm8LUYnoWPQXskLYYg5XZ.jpg',\n",
       " 'http://image.tmdb.org/t/p/original/xsUQlUAJbC32efGDYQyw5IkL8Nw.jpg',\n",
       " 'http://image.tmdb.org/t/p/original/5JnWsEWX5Lz7WHtTGz0czgP9zAV.jpg',\n",
       " 'http://image.tmdb.org/t/p/original/ePQuB4d09Hj2PR44Jlsk6EsbORW.jpg',\n",
       " 'http://image.tmdb.org/t/p/original/l46BsZPZ49J8oQZcOyP7pdlXkjs.jpg',\n",
       " 'http://image.tmdb.org/t/p/original/4Kc9ij5DeAwexVwVoT0fGHWK5WM.jpg',\n",
       " 'http://image.tmdb.org/t/p/original/eM2Y0RN3mUwp40Nm9I22Slgzl4c.jpg',\n",
       " 'http://image.tmdb.org/t/p/original/3kB8ncO7iehDNQ2ERNcRnZCWiN3.jpg',\n",
       " 'http://image.tmdb.org/t/p/original/5QHWgqaBxZI1eM5e3YhyKzY5o3z.jpg',\n",
       " 'http://image.tmdb.org/t/p/original/uI1gJI93hpbP0L1OqjUQNwKHbq7.jpg',\n",
       " 'http://image.tmdb.org/t/p/original/wcctQftcqHblFCbsKlNu7hzgqBx.jpg',\n",
       " 'http://image.tmdb.org/t/p/original/y242ckW8B10H24DrzpBAo5llXtp.jpg',\n",
       " 'http://image.tmdb.org/t/p/original/t5WUY5ZSxwVIVExaMZmmIj88BKA.jpg',\n",
       " 'http://image.tmdb.org/t/p/original/jfnbkogB7iimhKYAcJDGsUHaW1b.jpg',\n",
       " 'http://image.tmdb.org/t/p/original/9bYbEF4GkZ3TPd6oDNo0LfmOZNl.jpg',\n",
       " 'http://image.tmdb.org/t/p/original/bFl569dcxfhtWbsfW8zVhcVgwxv.jpg',\n",
       " 'http://image.tmdb.org/t/p/original/en4gt4ORxeQxjtwvC5zqq9sVSP5.jpg',\n",
       " 'http://image.tmdb.org/t/p/original/7QrIAHcoq1lxUKtd1f6Hu89o6EF.jpg',\n",
       " 'http://image.tmdb.org/t/p/original/yRYUPi0fhsCYd8nGRdjPGkz02KI.jpg',\n",
       " 'http://image.tmdb.org/t/p/original/4HEaEiBe9zmXJEZNHbS0j24s7j0.jpg',\n",
       " 'http://image.tmdb.org/t/p/original/b9yWS0HgwdMx4ULoLObQTO3dIT2.jpg',\n",
       " 'http://image.tmdb.org/t/p/original/rVH9tFDth9GOLz4GRANuykAqqRD.jpg',\n",
       " 'http://image.tmdb.org/t/p/original/X3AiAT2bqQTHuEh8SZ0KT01yQz.jpg',\n",
       " 'http://image.tmdb.org/t/p/original/adAsJ1rYGFdwgabzRQmNHV5FDKb.jpg',\n",
       " 'http://image.tmdb.org/t/p/original/dTWxbE6pxF7P2Y0Y4VRpJaRKJ3z.jpg',\n",
       " 'http://image.tmdb.org/t/p/original/bMli3vyaQKqgc5gDRONf1BQ7wVl.jpg']"
      ]
     },
     "execution_count": 196,
     "metadata": {},
     "output_type": "execute_result"
    }
   ],
   "source": [
    "get_poster_urls(imdbid)"
   ]
  },
  {
   "cell_type": "code",
   "execution_count": 197,
   "metadata": {},
   "outputs": [],
   "source": [
    "def _download_images(urls, path='.\\poster'):\n",
    "    \"\"\"download all images in list 'urls' to 'path' \"\"\"\n",
    "\n",
    "    for nr, url in enumerate(urls):\n",
    "        r = requests.get(url)\n",
    "        filetype = r.headers['content-type'].split('/')[-1]\n",
    "        filename = 'poster_{0}.{1}'.format(nr+1,filetype)\n",
    "        filepath = os.path.join(path, filename)\n",
    "        with open(filepath,'wb') as w:\n",
    "            w.write(r.content)"
   ]
  },
  {
   "cell_type": "code",
   "execution_count": 198,
   "metadata": {},
   "outputs": [],
   "source": [
    "def tmdb_posters(imdbid, count=None, outpath='.\\poster'):    \n",
    "    urls = get_poster_urls(imdbid)\n",
    "    if count is not None:\n",
    "        urls = urls[:count]\n",
    "    _download_images(urls, outpath)\n"
   ]
  },
  {
   "cell_type": "code",
   "execution_count": 199,
   "metadata": {},
   "outputs": [
    {
     "ename": "KeyboardInterrupt",
     "evalue": "",
     "output_type": "error",
     "traceback": [
      "\u001b[1;31m---------------------------------------------------------------------------\u001b[0m",
      "\u001b[1;31mKeyboardInterrupt\u001b[0m                         Traceback (most recent call last)",
      "\u001b[1;32m<ipython-input-199-8f306b873546>\u001b[0m in \u001b[0;36m<module>\u001b[1;34m\u001b[0m\n\u001b[1;32m----> 1\u001b[1;33m \u001b[0mtmdb_posters\u001b[0m\u001b[1;33m(\u001b[0m\u001b[0mimdbid\u001b[0m\u001b[1;33m)\u001b[0m\u001b[1;33m\u001b[0m\u001b[1;33m\u001b[0m\u001b[0m\n\u001b[0m",
      "\u001b[1;32m<ipython-input-198-f7d41071ca1c>\u001b[0m in \u001b[0;36mtmdb_posters\u001b[1;34m(imdbid, count, outpath)\u001b[0m\n\u001b[0;32m      3\u001b[0m     \u001b[1;32mif\u001b[0m \u001b[0mcount\u001b[0m \u001b[1;32mis\u001b[0m \u001b[1;32mnot\u001b[0m \u001b[1;32mNone\u001b[0m\u001b[1;33m:\u001b[0m\u001b[1;33m\u001b[0m\u001b[1;33m\u001b[0m\u001b[0m\n\u001b[0;32m      4\u001b[0m         \u001b[0murls\u001b[0m \u001b[1;33m=\u001b[0m \u001b[0murls\u001b[0m\u001b[1;33m[\u001b[0m\u001b[1;33m:\u001b[0m\u001b[0mcount\u001b[0m\u001b[1;33m]\u001b[0m\u001b[1;33m\u001b[0m\u001b[1;33m\u001b[0m\u001b[0m\n\u001b[1;32m----> 5\u001b[1;33m     \u001b[0m_download_images\u001b[0m\u001b[1;33m(\u001b[0m\u001b[0murls\u001b[0m\u001b[1;33m,\u001b[0m \u001b[0moutpath\u001b[0m\u001b[1;33m)\u001b[0m\u001b[1;33m\u001b[0m\u001b[1;33m\u001b[0m\u001b[0m\n\u001b[0m",
      "\u001b[1;32m<ipython-input-197-857d610d7e1a>\u001b[0m in \u001b[0;36m_download_images\u001b[1;34m(urls, path)\u001b[0m\n\u001b[0;32m      3\u001b[0m \u001b[1;33m\u001b[0m\u001b[0m\n\u001b[0;32m      4\u001b[0m     \u001b[1;32mfor\u001b[0m \u001b[0mnr\u001b[0m\u001b[1;33m,\u001b[0m \u001b[0murl\u001b[0m \u001b[1;32min\u001b[0m \u001b[0menumerate\u001b[0m\u001b[1;33m(\u001b[0m\u001b[0murls\u001b[0m\u001b[1;33m)\u001b[0m\u001b[1;33m:\u001b[0m\u001b[1;33m\u001b[0m\u001b[1;33m\u001b[0m\u001b[0m\n\u001b[1;32m----> 5\u001b[1;33m         \u001b[0mr\u001b[0m \u001b[1;33m=\u001b[0m \u001b[0mrequests\u001b[0m\u001b[1;33m.\u001b[0m\u001b[0mget\u001b[0m\u001b[1;33m(\u001b[0m\u001b[0murl\u001b[0m\u001b[1;33m)\u001b[0m\u001b[1;33m\u001b[0m\u001b[1;33m\u001b[0m\u001b[0m\n\u001b[0m\u001b[0;32m      6\u001b[0m         \u001b[0mfiletype\u001b[0m \u001b[1;33m=\u001b[0m \u001b[0mr\u001b[0m\u001b[1;33m.\u001b[0m\u001b[0mheaders\u001b[0m\u001b[1;33m[\u001b[0m\u001b[1;34m'content-type'\u001b[0m\u001b[1;33m]\u001b[0m\u001b[1;33m.\u001b[0m\u001b[0msplit\u001b[0m\u001b[1;33m(\u001b[0m\u001b[1;34m'/'\u001b[0m\u001b[1;33m)\u001b[0m\u001b[1;33m[\u001b[0m\u001b[1;33m-\u001b[0m\u001b[1;36m1\u001b[0m\u001b[1;33m]\u001b[0m\u001b[1;33m\u001b[0m\u001b[1;33m\u001b[0m\u001b[0m\n\u001b[0;32m      7\u001b[0m         \u001b[0mfilename\u001b[0m \u001b[1;33m=\u001b[0m \u001b[1;34m'poster_{0}.{1}'\u001b[0m\u001b[1;33m.\u001b[0m\u001b[0mformat\u001b[0m\u001b[1;33m(\u001b[0m\u001b[0mnr\u001b[0m\u001b[1;33m+\u001b[0m\u001b[1;36m1\u001b[0m\u001b[1;33m,\u001b[0m\u001b[0mfiletype\u001b[0m\u001b[1;33m)\u001b[0m\u001b[1;33m\u001b[0m\u001b[1;33m\u001b[0m\u001b[0m\n",
      "\u001b[1;32mC:\\ProgramData\\Anaconda3\\lib\\site-packages\\requests\\api.py\u001b[0m in \u001b[0;36mget\u001b[1;34m(url, params, **kwargs)\u001b[0m\n\u001b[0;32m     73\u001b[0m \u001b[1;33m\u001b[0m\u001b[0m\n\u001b[0;32m     74\u001b[0m     \u001b[0mkwargs\u001b[0m\u001b[1;33m.\u001b[0m\u001b[0msetdefault\u001b[0m\u001b[1;33m(\u001b[0m\u001b[1;34m'allow_redirects'\u001b[0m\u001b[1;33m,\u001b[0m \u001b[1;32mTrue\u001b[0m\u001b[1;33m)\u001b[0m\u001b[1;33m\u001b[0m\u001b[1;33m\u001b[0m\u001b[0m\n\u001b[1;32m---> 75\u001b[1;33m     \u001b[1;32mreturn\u001b[0m \u001b[0mrequest\u001b[0m\u001b[1;33m(\u001b[0m\u001b[1;34m'get'\u001b[0m\u001b[1;33m,\u001b[0m \u001b[0murl\u001b[0m\u001b[1;33m,\u001b[0m \u001b[0mparams\u001b[0m\u001b[1;33m=\u001b[0m\u001b[0mparams\u001b[0m\u001b[1;33m,\u001b[0m \u001b[1;33m**\u001b[0m\u001b[0mkwargs\u001b[0m\u001b[1;33m)\u001b[0m\u001b[1;33m\u001b[0m\u001b[1;33m\u001b[0m\u001b[0m\n\u001b[0m\u001b[0;32m     76\u001b[0m \u001b[1;33m\u001b[0m\u001b[0m\n\u001b[0;32m     77\u001b[0m \u001b[1;33m\u001b[0m\u001b[0m\n",
      "\u001b[1;32mC:\\ProgramData\\Anaconda3\\lib\\site-packages\\requests\\api.py\u001b[0m in \u001b[0;36mrequest\u001b[1;34m(method, url, **kwargs)\u001b[0m\n\u001b[0;32m     58\u001b[0m     \u001b[1;31m# cases, and look like a memory leak in others.\u001b[0m\u001b[1;33m\u001b[0m\u001b[1;33m\u001b[0m\u001b[1;33m\u001b[0m\u001b[0m\n\u001b[0;32m     59\u001b[0m     \u001b[1;32mwith\u001b[0m \u001b[0msessions\u001b[0m\u001b[1;33m.\u001b[0m\u001b[0mSession\u001b[0m\u001b[1;33m(\u001b[0m\u001b[1;33m)\u001b[0m \u001b[1;32mas\u001b[0m \u001b[0msession\u001b[0m\u001b[1;33m:\u001b[0m\u001b[1;33m\u001b[0m\u001b[1;33m\u001b[0m\u001b[0m\n\u001b[1;32m---> 60\u001b[1;33m         \u001b[1;32mreturn\u001b[0m \u001b[0msession\u001b[0m\u001b[1;33m.\u001b[0m\u001b[0mrequest\u001b[0m\u001b[1;33m(\u001b[0m\u001b[0mmethod\u001b[0m\u001b[1;33m=\u001b[0m\u001b[0mmethod\u001b[0m\u001b[1;33m,\u001b[0m \u001b[0murl\u001b[0m\u001b[1;33m=\u001b[0m\u001b[0murl\u001b[0m\u001b[1;33m,\u001b[0m \u001b[1;33m**\u001b[0m\u001b[0mkwargs\u001b[0m\u001b[1;33m)\u001b[0m\u001b[1;33m\u001b[0m\u001b[1;33m\u001b[0m\u001b[0m\n\u001b[0m\u001b[0;32m     61\u001b[0m \u001b[1;33m\u001b[0m\u001b[0m\n\u001b[0;32m     62\u001b[0m \u001b[1;33m\u001b[0m\u001b[0m\n",
      "\u001b[1;32mC:\\ProgramData\\Anaconda3\\lib\\site-packages\\requests\\sessions.py\u001b[0m in \u001b[0;36mrequest\u001b[1;34m(self, method, url, params, data, headers, cookies, files, auth, timeout, allow_redirects, proxies, hooks, stream, verify, cert, json)\u001b[0m\n\u001b[0;32m    531\u001b[0m         }\n\u001b[0;32m    532\u001b[0m         \u001b[0msend_kwargs\u001b[0m\u001b[1;33m.\u001b[0m\u001b[0mupdate\u001b[0m\u001b[1;33m(\u001b[0m\u001b[0msettings\u001b[0m\u001b[1;33m)\u001b[0m\u001b[1;33m\u001b[0m\u001b[1;33m\u001b[0m\u001b[0m\n\u001b[1;32m--> 533\u001b[1;33m         \u001b[0mresp\u001b[0m \u001b[1;33m=\u001b[0m \u001b[0mself\u001b[0m\u001b[1;33m.\u001b[0m\u001b[0msend\u001b[0m\u001b[1;33m(\u001b[0m\u001b[0mprep\u001b[0m\u001b[1;33m,\u001b[0m \u001b[1;33m**\u001b[0m\u001b[0msend_kwargs\u001b[0m\u001b[1;33m)\u001b[0m\u001b[1;33m\u001b[0m\u001b[1;33m\u001b[0m\u001b[0m\n\u001b[0m\u001b[0;32m    534\u001b[0m \u001b[1;33m\u001b[0m\u001b[0m\n\u001b[0;32m    535\u001b[0m         \u001b[1;32mreturn\u001b[0m \u001b[0mresp\u001b[0m\u001b[1;33m\u001b[0m\u001b[1;33m\u001b[0m\u001b[0m\n",
      "\u001b[1;32mC:\\ProgramData\\Anaconda3\\lib\\site-packages\\requests\\sessions.py\u001b[0m in \u001b[0;36msend\u001b[1;34m(self, request, **kwargs)\u001b[0m\n\u001b[0;32m    684\u001b[0m \u001b[1;33m\u001b[0m\u001b[0m\n\u001b[0;32m    685\u001b[0m         \u001b[1;32mif\u001b[0m \u001b[1;32mnot\u001b[0m \u001b[0mstream\u001b[0m\u001b[1;33m:\u001b[0m\u001b[1;33m\u001b[0m\u001b[1;33m\u001b[0m\u001b[0m\n\u001b[1;32m--> 686\u001b[1;33m             \u001b[0mr\u001b[0m\u001b[1;33m.\u001b[0m\u001b[0mcontent\u001b[0m\u001b[1;33m\u001b[0m\u001b[1;33m\u001b[0m\u001b[0m\n\u001b[0m\u001b[0;32m    687\u001b[0m \u001b[1;33m\u001b[0m\u001b[0m\n\u001b[0;32m    688\u001b[0m         \u001b[1;32mreturn\u001b[0m \u001b[0mr\u001b[0m\u001b[1;33m\u001b[0m\u001b[1;33m\u001b[0m\u001b[0m\n",
      "\u001b[1;32mC:\\ProgramData\\Anaconda3\\lib\\site-packages\\requests\\models.py\u001b[0m in \u001b[0;36mcontent\u001b[1;34m(self)\u001b[0m\n\u001b[0;32m    826\u001b[0m                 \u001b[0mself\u001b[0m\u001b[1;33m.\u001b[0m\u001b[0m_content\u001b[0m \u001b[1;33m=\u001b[0m \u001b[1;32mNone\u001b[0m\u001b[1;33m\u001b[0m\u001b[1;33m\u001b[0m\u001b[0m\n\u001b[0;32m    827\u001b[0m             \u001b[1;32melse\u001b[0m\u001b[1;33m:\u001b[0m\u001b[1;33m\u001b[0m\u001b[1;33m\u001b[0m\u001b[0m\n\u001b[1;32m--> 828\u001b[1;33m                 \u001b[0mself\u001b[0m\u001b[1;33m.\u001b[0m\u001b[0m_content\u001b[0m \u001b[1;33m=\u001b[0m \u001b[1;34mb''\u001b[0m\u001b[1;33m.\u001b[0m\u001b[0mjoin\u001b[0m\u001b[1;33m(\u001b[0m\u001b[0mself\u001b[0m\u001b[1;33m.\u001b[0m\u001b[0miter_content\u001b[0m\u001b[1;33m(\u001b[0m\u001b[0mCONTENT_CHUNK_SIZE\u001b[0m\u001b[1;33m)\u001b[0m\u001b[1;33m)\u001b[0m \u001b[1;32mor\u001b[0m \u001b[1;34mb''\u001b[0m\u001b[1;33m\u001b[0m\u001b[1;33m\u001b[0m\u001b[0m\n\u001b[0m\u001b[0;32m    829\u001b[0m \u001b[1;33m\u001b[0m\u001b[0m\n\u001b[0;32m    830\u001b[0m         \u001b[0mself\u001b[0m\u001b[1;33m.\u001b[0m\u001b[0m_content_consumed\u001b[0m \u001b[1;33m=\u001b[0m \u001b[1;32mTrue\u001b[0m\u001b[1;33m\u001b[0m\u001b[1;33m\u001b[0m\u001b[0m\n",
      "\u001b[1;32mC:\\ProgramData\\Anaconda3\\lib\\site-packages\\requests\\models.py\u001b[0m in \u001b[0;36mgenerate\u001b[1;34m()\u001b[0m\n\u001b[0;32m    748\u001b[0m             \u001b[1;32mif\u001b[0m \u001b[0mhasattr\u001b[0m\u001b[1;33m(\u001b[0m\u001b[0mself\u001b[0m\u001b[1;33m.\u001b[0m\u001b[0mraw\u001b[0m\u001b[1;33m,\u001b[0m \u001b[1;34m'stream'\u001b[0m\u001b[1;33m)\u001b[0m\u001b[1;33m:\u001b[0m\u001b[1;33m\u001b[0m\u001b[1;33m\u001b[0m\u001b[0m\n\u001b[0;32m    749\u001b[0m                 \u001b[1;32mtry\u001b[0m\u001b[1;33m:\u001b[0m\u001b[1;33m\u001b[0m\u001b[1;33m\u001b[0m\u001b[0m\n\u001b[1;32m--> 750\u001b[1;33m                     \u001b[1;32mfor\u001b[0m \u001b[0mchunk\u001b[0m \u001b[1;32min\u001b[0m \u001b[0mself\u001b[0m\u001b[1;33m.\u001b[0m\u001b[0mraw\u001b[0m\u001b[1;33m.\u001b[0m\u001b[0mstream\u001b[0m\u001b[1;33m(\u001b[0m\u001b[0mchunk_size\u001b[0m\u001b[1;33m,\u001b[0m \u001b[0mdecode_content\u001b[0m\u001b[1;33m=\u001b[0m\u001b[1;32mTrue\u001b[0m\u001b[1;33m)\u001b[0m\u001b[1;33m:\u001b[0m\u001b[1;33m\u001b[0m\u001b[1;33m\u001b[0m\u001b[0m\n\u001b[0m\u001b[0;32m    751\u001b[0m                         \u001b[1;32myield\u001b[0m \u001b[0mchunk\u001b[0m\u001b[1;33m\u001b[0m\u001b[1;33m\u001b[0m\u001b[0m\n\u001b[0;32m    752\u001b[0m                 \u001b[1;32mexcept\u001b[0m \u001b[0mProtocolError\u001b[0m \u001b[1;32mas\u001b[0m \u001b[0me\u001b[0m\u001b[1;33m:\u001b[0m\u001b[1;33m\u001b[0m\u001b[1;33m\u001b[0m\u001b[0m\n",
      "\u001b[1;32mC:\\ProgramData\\Anaconda3\\lib\\site-packages\\urllib3\\response.py\u001b[0m in \u001b[0;36mstream\u001b[1;34m(self, amt, decode_content)\u001b[0m\n\u001b[0;32m    492\u001b[0m         \u001b[1;32melse\u001b[0m\u001b[1;33m:\u001b[0m\u001b[1;33m\u001b[0m\u001b[1;33m\u001b[0m\u001b[0m\n\u001b[0;32m    493\u001b[0m             \u001b[1;32mwhile\u001b[0m \u001b[1;32mnot\u001b[0m \u001b[0mis_fp_closed\u001b[0m\u001b[1;33m(\u001b[0m\u001b[0mself\u001b[0m\u001b[1;33m.\u001b[0m\u001b[0m_fp\u001b[0m\u001b[1;33m)\u001b[0m\u001b[1;33m:\u001b[0m\u001b[1;33m\u001b[0m\u001b[1;33m\u001b[0m\u001b[0m\n\u001b[1;32m--> 494\u001b[1;33m                 \u001b[0mdata\u001b[0m \u001b[1;33m=\u001b[0m \u001b[0mself\u001b[0m\u001b[1;33m.\u001b[0m\u001b[0mread\u001b[0m\u001b[1;33m(\u001b[0m\u001b[0mamt\u001b[0m\u001b[1;33m=\u001b[0m\u001b[0mamt\u001b[0m\u001b[1;33m,\u001b[0m \u001b[0mdecode_content\u001b[0m\u001b[1;33m=\u001b[0m\u001b[0mdecode_content\u001b[0m\u001b[1;33m)\u001b[0m\u001b[1;33m\u001b[0m\u001b[1;33m\u001b[0m\u001b[0m\n\u001b[0m\u001b[0;32m    495\u001b[0m \u001b[1;33m\u001b[0m\u001b[0m\n\u001b[0;32m    496\u001b[0m                 \u001b[1;32mif\u001b[0m \u001b[0mdata\u001b[0m\u001b[1;33m:\u001b[0m\u001b[1;33m\u001b[0m\u001b[1;33m\u001b[0m\u001b[0m\n",
      "\u001b[1;32mC:\\ProgramData\\Anaconda3\\lib\\site-packages\\urllib3\\response.py\u001b[0m in \u001b[0;36mread\u001b[1;34m(self, amt, decode_content, cache_content)\u001b[0m\n\u001b[0;32m    440\u001b[0m             \u001b[1;32melse\u001b[0m\u001b[1;33m:\u001b[0m\u001b[1;33m\u001b[0m\u001b[1;33m\u001b[0m\u001b[0m\n\u001b[0;32m    441\u001b[0m                 \u001b[0mcache_content\u001b[0m \u001b[1;33m=\u001b[0m \u001b[1;32mFalse\u001b[0m\u001b[1;33m\u001b[0m\u001b[1;33m\u001b[0m\u001b[0m\n\u001b[1;32m--> 442\u001b[1;33m                 \u001b[0mdata\u001b[0m \u001b[1;33m=\u001b[0m \u001b[0mself\u001b[0m\u001b[1;33m.\u001b[0m\u001b[0m_fp\u001b[0m\u001b[1;33m.\u001b[0m\u001b[0mread\u001b[0m\u001b[1;33m(\u001b[0m\u001b[0mamt\u001b[0m\u001b[1;33m)\u001b[0m\u001b[1;33m\u001b[0m\u001b[1;33m\u001b[0m\u001b[0m\n\u001b[0m\u001b[0;32m    443\u001b[0m                 \u001b[1;32mif\u001b[0m \u001b[0mamt\u001b[0m \u001b[1;33m!=\u001b[0m \u001b[1;36m0\u001b[0m \u001b[1;32mand\u001b[0m \u001b[1;32mnot\u001b[0m \u001b[0mdata\u001b[0m\u001b[1;33m:\u001b[0m  \u001b[1;31m# Platform-specific: Buggy versions of Python.\u001b[0m\u001b[1;33m\u001b[0m\u001b[1;33m\u001b[0m\u001b[0m\n\u001b[0;32m    444\u001b[0m                     \u001b[1;31m# Close the connection when no data is returned\u001b[0m\u001b[1;33m\u001b[0m\u001b[1;33m\u001b[0m\u001b[1;33m\u001b[0m\u001b[0m\n",
      "\u001b[1;32mC:\\ProgramData\\Anaconda3\\lib\\http\\client.py\u001b[0m in \u001b[0;36mread\u001b[1;34m(self, amt)\u001b[0m\n\u001b[0;32m    455\u001b[0m             \u001b[1;31m# Amount is given, implement using readinto\u001b[0m\u001b[1;33m\u001b[0m\u001b[1;33m\u001b[0m\u001b[1;33m\u001b[0m\u001b[0m\n\u001b[0;32m    456\u001b[0m             \u001b[0mb\u001b[0m \u001b[1;33m=\u001b[0m \u001b[0mbytearray\u001b[0m\u001b[1;33m(\u001b[0m\u001b[0mamt\u001b[0m\u001b[1;33m)\u001b[0m\u001b[1;33m\u001b[0m\u001b[1;33m\u001b[0m\u001b[0m\n\u001b[1;32m--> 457\u001b[1;33m             \u001b[0mn\u001b[0m \u001b[1;33m=\u001b[0m \u001b[0mself\u001b[0m\u001b[1;33m.\u001b[0m\u001b[0mreadinto\u001b[0m\u001b[1;33m(\u001b[0m\u001b[0mb\u001b[0m\u001b[1;33m)\u001b[0m\u001b[1;33m\u001b[0m\u001b[1;33m\u001b[0m\u001b[0m\n\u001b[0m\u001b[0;32m    458\u001b[0m             \u001b[1;32mreturn\u001b[0m \u001b[0mmemoryview\u001b[0m\u001b[1;33m(\u001b[0m\u001b[0mb\u001b[0m\u001b[1;33m)\u001b[0m\u001b[1;33m[\u001b[0m\u001b[1;33m:\u001b[0m\u001b[0mn\u001b[0m\u001b[1;33m]\u001b[0m\u001b[1;33m.\u001b[0m\u001b[0mtobytes\u001b[0m\u001b[1;33m(\u001b[0m\u001b[1;33m)\u001b[0m\u001b[1;33m\u001b[0m\u001b[1;33m\u001b[0m\u001b[0m\n\u001b[0;32m    459\u001b[0m         \u001b[1;32melse\u001b[0m\u001b[1;33m:\u001b[0m\u001b[1;33m\u001b[0m\u001b[1;33m\u001b[0m\u001b[0m\n",
      "\u001b[1;32mC:\\ProgramData\\Anaconda3\\lib\\http\\client.py\u001b[0m in \u001b[0;36mreadinto\u001b[1;34m(self, b)\u001b[0m\n\u001b[0;32m    499\u001b[0m         \u001b[1;31m# connection, and the user is reading more bytes than will be provided\u001b[0m\u001b[1;33m\u001b[0m\u001b[1;33m\u001b[0m\u001b[1;33m\u001b[0m\u001b[0m\n\u001b[0;32m    500\u001b[0m         \u001b[1;31m# (for example, reading in 1k chunks)\u001b[0m\u001b[1;33m\u001b[0m\u001b[1;33m\u001b[0m\u001b[1;33m\u001b[0m\u001b[0m\n\u001b[1;32m--> 501\u001b[1;33m         \u001b[0mn\u001b[0m \u001b[1;33m=\u001b[0m \u001b[0mself\u001b[0m\u001b[1;33m.\u001b[0m\u001b[0mfp\u001b[0m\u001b[1;33m.\u001b[0m\u001b[0mreadinto\u001b[0m\u001b[1;33m(\u001b[0m\u001b[0mb\u001b[0m\u001b[1;33m)\u001b[0m\u001b[1;33m\u001b[0m\u001b[1;33m\u001b[0m\u001b[0m\n\u001b[0m\u001b[0;32m    502\u001b[0m         \u001b[1;32mif\u001b[0m \u001b[1;32mnot\u001b[0m \u001b[0mn\u001b[0m \u001b[1;32mand\u001b[0m \u001b[0mb\u001b[0m\u001b[1;33m:\u001b[0m\u001b[1;33m\u001b[0m\u001b[1;33m\u001b[0m\u001b[0m\n\u001b[0;32m    503\u001b[0m             \u001b[1;31m# Ideally, we would raise IncompleteRead if the content-length\u001b[0m\u001b[1;33m\u001b[0m\u001b[1;33m\u001b[0m\u001b[1;33m\u001b[0m\u001b[0m\n",
      "\u001b[1;32mC:\\ProgramData\\Anaconda3\\lib\\socket.py\u001b[0m in \u001b[0;36mreadinto\u001b[1;34m(self, b)\u001b[0m\n\u001b[0;32m    587\u001b[0m         \u001b[1;32mwhile\u001b[0m \u001b[1;32mTrue\u001b[0m\u001b[1;33m:\u001b[0m\u001b[1;33m\u001b[0m\u001b[1;33m\u001b[0m\u001b[0m\n\u001b[0;32m    588\u001b[0m             \u001b[1;32mtry\u001b[0m\u001b[1;33m:\u001b[0m\u001b[1;33m\u001b[0m\u001b[1;33m\u001b[0m\u001b[0m\n\u001b[1;32m--> 589\u001b[1;33m                 \u001b[1;32mreturn\u001b[0m \u001b[0mself\u001b[0m\u001b[1;33m.\u001b[0m\u001b[0m_sock\u001b[0m\u001b[1;33m.\u001b[0m\u001b[0mrecv_into\u001b[0m\u001b[1;33m(\u001b[0m\u001b[0mb\u001b[0m\u001b[1;33m)\u001b[0m\u001b[1;33m\u001b[0m\u001b[1;33m\u001b[0m\u001b[0m\n\u001b[0m\u001b[0;32m    590\u001b[0m             \u001b[1;32mexcept\u001b[0m \u001b[0mtimeout\u001b[0m\u001b[1;33m:\u001b[0m\u001b[1;33m\u001b[0m\u001b[1;33m\u001b[0m\u001b[0m\n\u001b[0;32m    591\u001b[0m                 \u001b[0mself\u001b[0m\u001b[1;33m.\u001b[0m\u001b[0m_timeout_occurred\u001b[0m \u001b[1;33m=\u001b[0m \u001b[1;32mTrue\u001b[0m\u001b[1;33m\u001b[0m\u001b[1;33m\u001b[0m\u001b[0m\n",
      "\u001b[1;31mKeyboardInterrupt\u001b[0m: "
     ]
    }
   ],
   "source": [
    "tmdb_posters(imdbid)"
   ]
  },
  {
   "cell_type": "code",
   "execution_count": null,
   "metadata": {},
   "outputs": [],
   "source": []
  }
 ],
 "metadata": {
  "kernelspec": {
   "display_name": "Python 3",
   "language": "python",
   "name": "python3"
  },
  "language_info": {
   "codemirror_mode": {
    "name": "ipython",
    "version": 3
   },
   "file_extension": ".py",
   "mimetype": "text/x-python",
   "name": "python",
   "nbconvert_exporter": "python",
   "pygments_lexer": "ipython3",
   "version": "3.7.4"
  }
 },
 "nbformat": 4,
 "nbformat_minor": 2
}
