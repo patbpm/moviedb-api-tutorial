{
 "cells": [
  {
   "cell_type": "code",
   "execution_count": null,
   "metadata": {},
   "outputs": [],
   "source": [
    "import requests\n",
    "import json\n",
    "from datetime import datetime"
   ]
  },
  {
   "cell_type": "code",
   "execution_count": null,
   "metadata": {},
   "outputs": [],
   "source": []
  },
  {
   "cell_type": "code",
   "execution_count": 7,
   "metadata": {},
   "outputs": [
    {
     "ename": "SyntaxError",
     "evalue": "invalid syntax (<ipython-input-7-5dae7d2fd527>, line 1)",
     "output_type": "error",
     "traceback": [
      "\u001b[1;36m  File \u001b[1;32m\"<ipython-input-7-5dae7d2fd527>\"\u001b[1;36m, line \u001b[1;32m1\u001b[0m\n\u001b[1;33m    response = requests.get(\"href=\"http://api.themoviedb.org/3/discover/movie?sort_by=popularity.desc?&api_key=my_api_key\")\u001b[0m\n\u001b[1;37m                                      ^\u001b[0m\n\u001b[1;31mSyntaxError\u001b[0m\u001b[1;31m:\u001b[0m invalid syntax\n"
     ]
    }
   ],
   "source": [
    "response = requests.get(\"href=\"http://api.themoviedb.org/3/discover/movie?sort_by=popularity.desc?&api_key=my_api_key\")\n"
   ]
  },
  {
   "cell_type": "code",
   "execution_count": null,
   "metadata": {},
   "outputs": [],
   "source": [
    "print(response.status_code)"
   ]
  },
  {
   "cell_type": "code",
   "execution_count": null,
   "metadata": {},
   "outputs": [],
   "source": [
    "print(response.json())"
   ]
  },
  {
   "cell_type": "code",
   "execution_count": 71,
   "metadata": {},
   "outputs": [],
   "source": [
    "def jprint(obj):\n",
    "    # create a formatted string of the Python JSON object\n",
    "    text = json.dumps(obj, sort_keys=True, indent=4)\n",
    "    print(text)\n"
   ]
  },
  {
   "cell_type": "code",
   "execution_count": 72,
   "metadata": {},
   "outputs": [
    {
     "name": "stdout",
     "output_type": "stream",
     "text": [
      "{\n",
      "    \"adult\": false,\n",
      "    \"backdrop_path\": \"/mMZRKb3NVo5ZeSPEIaNW9buLWQ0.jpg\",\n",
      "    \"belongs_to_collection\": null,\n",
      "    \"budget\": 63000000,\n",
      "    \"genres\": [\n",
      "        {\n",
      "            \"id\": 18,\n",
      "            \"name\": \"Drama\"\n",
      "        }\n",
      "    ],\n",
      "    \"homepage\": \"http://www.foxmovies.com/movies/fight-club\",\n",
      "    \"id\": 550,\n",
      "    \"imdb_id\": \"tt0137523\",\n",
      "    \"original_language\": \"en\",\n",
      "    \"original_title\": \"Fight Club\",\n",
      "    \"overview\": \"A ticking-time-bomb insomniac and a slippery soap salesman channel primal male aggression into a shocking new form of therapy. Their concept catches on, with underground \\\"fight clubs\\\" forming in every town, until an eccentric gets in the way and ignites an out-of-control spiral toward oblivion.\",\n",
      "    \"popularity\": 45.478,\n",
      "    \"poster_path\": \"/adw6Lq9FiC9zjYEpOqfq03ituwp.jpg\",\n",
      "    \"production_companies\": [\n",
      "        {\n",
      "            \"id\": 508,\n",
      "            \"logo_path\": \"/7PzJdsLGlR7oW4J0J5Xcd0pHGRg.png\",\n",
      "            \"name\": \"Regency Enterprises\",\n",
      "            \"origin_country\": \"US\"\n",
      "        },\n",
      "        {\n",
      "            \"id\": 711,\n",
      "            \"logo_path\": \"/tEiIH5QesdheJmDAqQwvtN60727.png\",\n",
      "            \"name\": \"Fox 2000 Pictures\",\n",
      "            \"origin_country\": \"US\"\n",
      "        },\n",
      "        {\n",
      "            \"id\": 20555,\n",
      "            \"logo_path\": \"/hD8yEGUBlHOcfHYbujp71vD8gZp.png\",\n",
      "            \"name\": \"Taurus Film\",\n",
      "            \"origin_country\": \"DE\"\n",
      "        },\n",
      "        {\n",
      "            \"id\": 54051,\n",
      "            \"logo_path\": null,\n",
      "            \"name\": \"Atman Entertainment\",\n",
      "            \"origin_country\": \"\"\n",
      "        },\n",
      "        {\n",
      "            \"id\": 54052,\n",
      "            \"logo_path\": null,\n",
      "            \"name\": \"Knickerbocker Films\",\n",
      "            \"origin_country\": \"US\"\n",
      "        },\n",
      "        {\n",
      "            \"id\": 25,\n",
      "            \"logo_path\": \"/qZCc1lty5FzX30aOCVRBLzaVmcp.png\",\n",
      "            \"name\": \"20th Century Fox\",\n",
      "            \"origin_country\": \"US\"\n",
      "        },\n",
      "        {\n",
      "            \"id\": 4700,\n",
      "            \"logo_path\": \"/A32wmjrs9Psf4zw0uaixF0GXfxq.png\",\n",
      "            \"name\": \"The Linson Company\",\n",
      "            \"origin_country\": \"\"\n",
      "        }\n",
      "    ],\n",
      "    \"production_countries\": [\n",
      "        {\n",
      "            \"iso_3166_1\": \"DE\",\n",
      "            \"name\": \"Germany\"\n",
      "        },\n",
      "        {\n",
      "            \"iso_3166_1\": \"US\",\n",
      "            \"name\": \"United States of America\"\n",
      "        }\n",
      "    ],\n",
      "    \"release_date\": \"1999-10-15\",\n",
      "    \"revenue\": 100853753,\n",
      "    \"runtime\": 139,\n",
      "    \"spoken_languages\": [\n",
      "        {\n",
      "            \"iso_639_1\": \"en\",\n",
      "            \"name\": \"English\"\n",
      "        }\n",
      "    ],\n",
      "    \"status\": \"Released\",\n",
      "    \"tagline\": \"Mischief. Mayhem. Soap.\",\n",
      "    \"title\": \"Fight Club\",\n",
      "    \"video\": false,\n",
      "    \"vote_average\": 8.4,\n",
      "    \"vote_count\": 17711\n",
      "}\n"
     ]
    }
   ],
   "source": [
    "jprint(response.json())"
   ]
  },
  {
   "cell_type": "code",
   "execution_count": 56,
   "metadata": {},
   "outputs": [
    {
     "name": "stdout",
     "output_type": "stream",
     "text": [
      "[\n",
      "    {\n",
      "        \"id\": 508,\n",
      "        \"logo_path\": \"/7PzJdsLGlR7oW4J0J5Xcd0pHGRg.png\",\n",
      "        \"name\": \"Regency Enterprises\",\n",
      "        \"origin_country\": \"US\"\n",
      "    },\n",
      "    {\n",
      "        \"id\": 711,\n",
      "        \"logo_path\": \"/tEiIH5QesdheJmDAqQwvtN60727.png\",\n",
      "        \"name\": \"Fox 2000 Pictures\",\n",
      "        \"origin_country\": \"US\"\n",
      "    },\n",
      "    {\n",
      "        \"id\": 20555,\n",
      "        \"logo_path\": \"/hD8yEGUBlHOcfHYbujp71vD8gZp.png\",\n",
      "        \"name\": \"Taurus Film\",\n",
      "        \"origin_country\": \"DE\"\n",
      "    },\n",
      "    {\n",
      "        \"id\": 54051,\n",
      "        \"logo_path\": null,\n",
      "        \"name\": \"Atman Entertainment\",\n",
      "        \"origin_country\": \"\"\n",
      "    },\n",
      "    {\n",
      "        \"id\": 54052,\n",
      "        \"logo_path\": null,\n",
      "        \"name\": \"Knickerbocker Films\",\n",
      "        \"origin_country\": \"US\"\n",
      "    },\n",
      "    {\n",
      "        \"id\": 25,\n",
      "        \"logo_path\": \"/qZCc1lty5FzX30aOCVRBLzaVmcp.png\",\n",
      "        \"name\": \"20th Century Fox\",\n",
      "        \"origin_country\": \"US\"\n",
      "    },\n",
      "    {\n",
      "        \"id\": 4700,\n",
      "        \"logo_path\": \"/A32wmjrs9Psf4zw0uaixF0GXfxq.png\",\n",
      "        \"name\": \"The Linson Company\",\n",
      "        \"origin_country\": \"\"\n",
      "    }\n",
      "]\n"
     ]
    }
   ],
   "source": [
    "production_companies = response.json()['production_companies']\n",
    "jprint(production_companies)"
   ]
  },
  {
   "cell_type": "code",
   "execution_count": 60,
   "metadata": {},
   "outputs": [
    {
     "name": "stdout",
     "output_type": "stream",
     "text": [
      "[]\n"
     ]
    }
   ],
   "source": [
    "names = []\n",
    "\n",
    "for d in production_companies:\n",
    "    time = d['name']\n",
    "    risetimes.append(name)\n",
    "\n",
    "print(names)"
   ]
  },
  {
   "cell_type": "code",
   "execution_count": 48,
   "metadata": {},
   "outputs": [
    {
     "name": "stdout",
     "output_type": "stream",
     "text": [
      "2019-12-24 11:05:01\n",
      "2019-12-24 12:39:57\n",
      "2019-12-24 14:17:26\n",
      "2019-12-24 15:55:32\n",
      "2019-12-24 17:32:44\n"
     ]
    }
   ],
   "source": [
    "times = []\n",
    "\n",
    "for rt in risetimes:\n",
    "    time = datetime.fromtimestamp(rt)\n",
    "    times.append(time)\n",
    "    print(time)"
   ]
  },
  {
   "cell_type": "code",
   "execution_count": null,
   "metadata": {},
   "outputs": [],
   "source": []
  }
 ],
 "metadata": {
  "kernelspec": {
   "display_name": "Python 3",
   "language": "python",
   "name": "python3"
  },
  "language_info": {
   "codemirror_mode": {
    "name": "ipython",
    "version": 3
   },
   "file_extension": ".py",
   "mimetype": "text/x-python",
   "name": "python",
   "nbconvert_exporter": "python",
   "pygments_lexer": "ipython3",
   "version": "3.7.4"
  }
 },
 "nbformat": 4,
 "nbformat_minor": 2
}
